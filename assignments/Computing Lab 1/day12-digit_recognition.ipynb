{
  "nbformat": 4,
  "nbformat_minor": 0,
  "metadata": {
    "colab": {
      "provenance": []
    },
    "kernelspec": {
      "name": "python3",
      "display_name": "Python 3"
    },
    "language_info": {
      "name": "python"
    },
    "accelerator": "GPU",
    "gpuClass": "standard"
  },
  "cells": [
    {
      "cell_type": "markdown",
      "source": [
        "## Implementing Digit Recognizer Neural Network"
      ],
      "metadata": {
        "id": "R-e9QTfqK74x"
      }
    },
    {
      "cell_type": "code",
      "execution_count": null,
      "metadata": {
        "id": "1fjMhQRboUNC"
      },
      "outputs": [],
      "source": [
        "import tensorflow as tf\n",
        "(x_train, y_train), (x_test, y_test) = tf.keras.datasets.mnist.load_data()"
      ]
    },
    {
      "cell_type": "code",
      "source": [
        "x_train.shape"
      ],
      "metadata": {
        "colab": {
          "base_uri": "https://localhost:8080/"
        },
        "id": "PYVuuHGtwKfn",
        "outputId": "09d8df2d-78a2-4165-abbf-98de5f82e490"
      },
      "execution_count": null,
      "outputs": [
        {
          "output_type": "execute_result",
          "data": {
            "text/plain": [
              "(60000, 28, 28)"
            ]
          },
          "metadata": {},
          "execution_count": 32
        }
      ]
    },
    {
      "cell_type": "code",
      "source": [
        "x_train = x_train.reshape(x_train.shape[0], 196, 4, 1)\n",
        "x_test = x_test.reshape(x_test.shape[0], 196, 4, 1)\n",
        "input_shape = (196, 4, 1)"
      ],
      "metadata": {
        "id": "5X06SnMEoW_9"
      },
      "execution_count": null,
      "outputs": []
    },
    {
      "cell_type": "code",
      "source": [
        "x_train.shape"
      ],
      "metadata": {
        "colab": {
          "base_uri": "https://localhost:8080/"
        },
        "id": "L7PxWix-umRv",
        "outputId": "156136b1-2426-44f3-d538-da0002848afe"
      },
      "execution_count": null,
      "outputs": [
        {
          "output_type": "execute_result",
          "data": {
            "text/plain": [
              "(60000, 196, 4, 1)"
            ]
          },
          "metadata": {},
          "execution_count": 34
        }
      ]
    },
    {
      "cell_type": "code",
      "source": [
        "x_train = x_train.astype('float32')\n",
        "x_test = x_test.astype('float32')"
      ],
      "metadata": {
        "id": "6s0BtmaCoix8"
      },
      "execution_count": null,
      "outputs": []
    },
    {
      "cell_type": "code",
      "source": [
        "x_train /= 255\n",
        "x_test /= 255"
      ],
      "metadata": {
        "id": "Td0H2kkNokbk"
      },
      "execution_count": null,
      "outputs": []
    },
    {
      "cell_type": "code",
      "source": [
        "from tensorflow.keras.models import Sequential\n",
        "from tensorflow.keras.layers import Dense, Conv2D, Dropout, Flatten, MaxPooling2D\n",
        "model = Sequential()\n",
        "model.add(Conv2D(196, kernel_size=(3,3), input_shape=input_shape))\n",
        "model.add(MaxPooling2D(pool_size=(2, 2)))\n",
        "model.add(Flatten())\n",
        "model.add(Dense(128, activation=tf.nn.relu))\n",
        "model.add(Dropout(0.2))\n",
        "model.add(Dense(10,activation=tf.nn.softmax))"
      ],
      "metadata": {
        "id": "ymiciOIFomPk"
      },
      "execution_count": null,
      "outputs": []
    },
    {
      "cell_type": "code",
      "source": [
        "model.compile(optimizer='adam', loss='sparse_categorical_crossentropy', metrics=['accuracy'])\n",
        "model.fit(x=x_train,y=y_train, epochs=10)"
      ],
      "metadata": {
        "colab": {
          "base_uri": "https://localhost:8080/"
        },
        "id": "Z0-X4Z_xoszU",
        "outputId": "c528773a-7619-45fb-fd6c-b540a5aafab6"
      },
      "execution_count": null,
      "outputs": [
        {
          "output_type": "stream",
          "name": "stdout",
          "text": [
            "Epoch 1/10\n",
            "1875/1875 [==============================] - 114s 60ms/step - loss: 0.2000 - accuracy: 0.9387\n",
            "Epoch 2/10\n",
            "1875/1875 [==============================] - 115s 61ms/step - loss: 0.1081 - accuracy: 0.9657\n",
            "Epoch 3/10\n",
            "1875/1875 [==============================] - 114s 61ms/step - loss: 0.0830 - accuracy: 0.9741\n",
            "Epoch 4/10\n",
            "1875/1875 [==============================] - 114s 61ms/step - loss: 0.0687 - accuracy: 0.9779\n",
            "Epoch 5/10\n",
            "1875/1875 [==============================] - 113s 60ms/step - loss: 0.0583 - accuracy: 0.9813\n",
            "Epoch 6/10\n",
            "1875/1875 [==============================] - 113s 60ms/step - loss: 0.0526 - accuracy: 0.9825\n",
            "Epoch 7/10\n",
            "1875/1875 [==============================] - 112s 60ms/step - loss: 0.0437 - accuracy: 0.9853\n",
            "Epoch 8/10\n",
            "1875/1875 [==============================] - 111s 59ms/step - loss: 0.0409 - accuracy: 0.9868\n",
            "Epoch 9/10\n",
            "1875/1875 [==============================] - 112s 60ms/step - loss: 0.0371 - accuracy: 0.9876\n",
            "Epoch 10/10\n",
            "1875/1875 [==============================] - 114s 61ms/step - loss: 0.0357 - accuracy: 0.9878\n"
          ]
        },
        {
          "output_type": "execute_result",
          "data": {
            "text/plain": [
              "<keras.callbacks.History at 0x7f77a17c3430>"
            ]
          },
          "metadata": {},
          "execution_count": 38
        }
      ]
    },
    {
      "cell_type": "code",
      "source": [
        "model.evaluate(x_test, y_test)"
      ],
      "metadata": {
        "colab": {
          "base_uri": "https://localhost:8080/"
        },
        "id": "kgks0fjJourM",
        "outputId": "fe81889f-531e-4a17-a1b4-8b8215a58bff"
      },
      "execution_count": null,
      "outputs": [
        {
          "output_type": "stream",
          "name": "stdout",
          "text": [
            "313/313 [==============================] - 5s 15ms/step - loss: 0.0822 - accuracy: 0.9798\n"
          ]
        },
        {
          "output_type": "execute_result",
          "data": {
            "text/plain": [
              "[0.08216805756092072, 0.9797999858856201]"
            ]
          },
          "metadata": {},
          "execution_count": 39
        }
      ]
    },
    {
      "cell_type": "code",
      "source": [
        "import matplotlib.pyplot as plt\n",
        "image_index = 2853\n",
        "plt.imshow(x_test[image_index].reshape(28, 28),cmap='Greys')\n",
        "predict = x_test[image_index].reshape(28,28)\n",
        "pred = model.predict(x_test[image_index].reshape(1, 196, 4, 1))\n",
        "print(pred.argmax())"
      ],
      "metadata": {
        "colab": {
          "base_uri": "https://localhost:8080/",
          "height": 465
        },
        "id": "nlPJDsGZoxFE",
        "outputId": "4801bb34-9d5a-4d4b-8480-198cee1d754b"
      },
      "execution_count": null,
      "outputs": [
        {
          "output_type": "stream",
          "name": "stdout",
          "text": [
            "1/1 [==============================] - 0s 27ms/step\n",
            "3\n"
          ]
        },
        {
          "output_type": "display_data",
          "data": {
            "text/plain": [
              "<Figure size 640x480 with 1 Axes>"
            ],
            "image/png": "[encoded data removed]"
          },
          "metadata": {}
        }
      ]
    },
    {
      "cell_type": "code",
      "source": [
        "from sklearn.metrics import confusion_matrix\n",
        "import numpy as np\n",
        "\n",
        "test_predictions = model.predict(x_test)\n",
        "confusion = confusion_matrix(y_test, np.argmax(test_predictions,axis=1))"
      ],
      "metadata": {
        "colab": {
          "base_uri": "https://localhost:8080/"
        },
        "id": "2U8Ix5Peo0vs",
        "outputId": "138d0211-81b2-4d99-cf0c-ac7b59cff968"
      },
      "execution_count": null,
      "outputs": [
        {
          "output_type": "stream",
          "name": "stdout",
          "text": [
            "313/313 [==============================] - 4s 12ms/step\n"
          ]
        }
      ]
    },
    {
      "cell_type": "code",
      "source": [
        "confusion"
      ],
      "metadata": {
        "colab": {
          "base_uri": "https://localhost:8080/"
        },
        "id": "CEsTr_lxqaJd",
        "outputId": "f6bef4e9-d18f-47db-eae5-f63f4a4c818e"
      },
      "execution_count": null,
      "outputs": [
        {
          "output_type": "execute_result",
          "data": {
            "text/plain": [
              "array([[ 974,    0,    2,    0,    1,    0,    1,    1,    0,    1],\n",
              "       [   0, 1130,    3,    0,    0,    0,    1,    0,    1,    0],\n",
              "       [   1,    0, 1015,    1,    4,    0,    0,    8,    3,    0],\n",
              "       [   1,    0,    8,  988,    0,    4,    0,    3,    2,    4],\n",
              "       [   0,    0,    1,    0,  966,    0,    3,    0,    0,   12],\n",
              "       [   4,    1,    1,   22,    0,  848,    4,    0,    5,    7],\n",
              "       [   3,    2,    2,    0,    2,    3,  941,    0,    5,    0],\n",
              "       [   1,    5,    6,    1,    5,    0,    0,  997,    5,    8],\n",
              "       [   4,    0,    5,    3,    2,    3,    2,    3,  951,    1],\n",
              "       [   1,    3,    1,    3,   11,    0,    0,    2,    0,  988]])"
            ]
          },
          "metadata": {},
          "execution_count": 48
        }
      ]
    },
    {
      "cell_type": "code",
      "source": [
        "type(confusion)"
      ],
      "metadata": {
        "colab": {
          "base_uri": "https://localhost:8080/"
        },
        "id": "eZ51kbVrrZ32",
        "outputId": "ee16c5c0-24a9-40ff-e602-e60aaae68d3b"
      },
      "execution_count": null,
      "outputs": [
        {
          "output_type": "execute_result",
          "data": {
            "text/plain": [
              "numpy.ndarray"
            ]
          },
          "metadata": {},
          "execution_count": 49
        }
      ]
    },
    {
      "cell_type": "code",
      "source": [
        "import seaborn as sn\n",
        "hm = sn.heatmap(data = confusion)"
      ],
      "metadata": {
        "colab": {
          "base_uri": "https://localhost:8080/",
          "height": 430
        },
        "id": "CX-P9ov7rd79",
        "outputId": "b7d5240b-7cbc-469d-eb57-3ddbe991e43d"
      },
      "execution_count": null,
      "outputs": [
        {
          "output_type": "display_data",
          "data": {
            "text/plain": [
              "<Figure size 640x480 with 2 Axes>"
            ],
            "image/png": "[encoded data removed]"
          },
          "metadata": {}
        }
      ]
    },
    {
      "cell_type": "code",
      "source": [],
      "metadata": {
        "id": "ZvXB7vnxrsre"
      },
      "execution_count": null,
      "outputs": []
    }
  ]
}